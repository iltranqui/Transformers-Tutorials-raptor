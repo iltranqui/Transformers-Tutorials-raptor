{
 "cells": [
  {
   "cell_type": "code",
   "execution_count": 1,
   "metadata": {},
   "outputs": [
    {
     "name": "stdout",
     "output_type": "stream",
     "text": [
      "^C\n",
      "\u001b[31mERROR: Operation cancelled by user\u001b[0m\u001b[31m\n",
      "\u001b[0m"
     ]
    }
   ],
   "source": [
    "# Install the necessary dependencies\n",
    "!pip install datasets -qq\n",
    "!pip install evaluate -qq\n",
    "!pip install albumentations -qq\n",
    "!pip install git+https://github.com/huggingface/transformers.git -qq\n",
    "# We will use this to push our trained model to HF Hub\n",
    "!pip install huggingface_hub -qq"
   ]
  },
  {
   "cell_type": "code",
   "execution_count": 1,
   "metadata": {},
   "outputs": [],
   "source": [
    "# Import the necessary packages\n",
    "import random\n",
    "from tqdm.auto import tqdm\n",
    "import matplotlib.pyplot as plt\n",
    "import torch\n",
    "from torch import nn\n",
    "from torch.utils.data import Dataset\n",
    "from torch.utils.data import DataLoader\n",
    "import albumentations as A\n",
    "import numpy as np\n",
    "import pandas as pd\n",
    "from datasets import load_dataset\n",
    "from transformers import (\n",
    "    MaskFormerConfig,\n",
    "    MaskFormerImageProcessor,\n",
    "    MaskFormerModel,\n",
    "    MaskFormerForInstanceSegmentation,\n",
    ")\n",
    "import evaluate\n",
    "# from huggingface_hub import notebook_login"
   ]
  },
  {
   "cell_type": "code",
   "execution_count": null,
   "metadata": {},
   "outputs": [],
   "source": [
    "train = load_dataset(\"scene_parse_150\", \"instance_segmentation\", split=\"train\")\n",
    "validation = load_dataset(\"scene_parse_150\", \"instance_segmentation\", split=\"validation\")\n",
    "test = load_dataset(\"scene_parse_150\", \"instance_segmentation\", split=\"test\")"
   ]
  }
 ],
 "metadata": {
  "kernelspec": {
   "display_name": "transformer-debugger",
   "language": "python",
   "name": "python3"
  },
  "language_info": {
   "codemirror_mode": {
    "name": "ipython",
    "version": 3
   },
   "file_extension": ".py",
   "mimetype": "text/x-python",
   "name": "python",
   "nbconvert_exporter": "python",
   "pygments_lexer": "ipython3",
   "version": "3.11.8"
  }
 },
 "nbformat": 4,
 "nbformat_minor": 2
}
